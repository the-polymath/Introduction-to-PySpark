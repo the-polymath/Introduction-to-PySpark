{
  "nbformat": 4,
  "nbformat_minor": 0,
  "metadata": {
    "colab": {
      "provenance": []
    },
    "kernelspec": {
      "name": "python3",
      "display_name": "Python 3"
    },
    "language_info": {
      "name": "python"
    }
  },
  "cells": [
    {
      "cell_type": "markdown",
      "source": [
        "#Filter Operations\n",
        "<hr>"
      ],
      "metadata": {
        "id": "9Jkha8Z80s8Q"
      }
    },
    {
      "cell_type": "code",
      "execution_count": null,
      "metadata": {
        "colab": {
          "base_uri": "https://localhost:8080/"
        },
        "id": "iNRw_DRq0neC",
        "outputId": "8f7d050d-6855-4a44-eab0-3f8bce8de227"
      },
      "outputs": [
        {
          "output_type": "stream",
          "name": "stdout",
          "text": [
            "Looking in indexes: https://pypi.org/simple, https://us-python.pkg.dev/colab-wheels/public/simple/\n",
            "Collecting pyspark\n",
            "  Downloading pyspark-3.3.0.tar.gz (281.3 MB)\n",
            "\u001b[K     |████████████████████████████████| 281.3 MB 46 kB/s \n",
            "\u001b[?25hCollecting py4j==0.10.9.5\n",
            "  Downloading py4j-0.10.9.5-py2.py3-none-any.whl (199 kB)\n",
            "\u001b[K     |████████████████████████████████| 199 kB 55.1 MB/s \n",
            "\u001b[?25hBuilding wheels for collected packages: pyspark\n",
            "  Building wheel for pyspark (setup.py) ... \u001b[?25l\u001b[?25hdone\n",
            "  Created wheel for pyspark: filename=pyspark-3.3.0-py2.py3-none-any.whl size=281764026 sha256=68d30816feb3fb585b1a464735623bf4f854296c6495af14f426f107fe36e518\n",
            "  Stored in directory: /root/.cache/pip/wheels/7a/8e/1b/f73a52650d2e5f337708d9f6a1750d451a7349a867f928b885\n",
            "Successfully built pyspark\n",
            "Installing collected packages: py4j, pyspark\n",
            "Successfully installed py4j-0.10.9.5 pyspark-3.3.0\n"
          ]
        }
      ],
      "source": [
        "# Installation of pyspark package\n",
        "!pip install pyspark"
      ]
    },
    {
      "cell_type": "code",
      "source": [
        "# creating spark session\n",
        "from pyspark.sql import SparkSession\n",
        "\n",
        "spark = SparkSession.builder.appName(\"Filter\").getOrCreate()\n",
        "spark"
      ],
      "metadata": {
        "colab": {
          "base_uri": "https://localhost:8080/",
          "height": 219
        },
        "id": "M2QQBzYW0wDf",
        "outputId": "9268d5b7-f497-4bab-d34d-444606b99bfd"
      },
      "execution_count": null,
      "outputs": [
        {
          "output_type": "execute_result",
          "data": {
            "text/plain": [
              "<pyspark.sql.session.SparkSession at 0x7f551f707150>"
            ],
            "text/html": [
              "\n",
              "            <div>\n",
              "                <p><b>SparkSession - in-memory</b></p>\n",
              "                \n",
              "        <div>\n",
              "            <p><b>SparkContext</b></p>\n",
              "\n",
              "            <p><a href=\"http://9d4656ef06af:4040\">Spark UI</a></p>\n",
              "\n",
              "            <dl>\n",
              "              <dt>Version</dt>\n",
              "                <dd><code>v3.3.0</code></dd>\n",
              "              <dt>Master</dt>\n",
              "                <dd><code>local[*]</code></dd>\n",
              "              <dt>AppName</dt>\n",
              "                <dd><code>Filter</code></dd>\n",
              "            </dl>\n",
              "        </div>\n",
              "        \n",
              "            </div>\n",
              "        "
            ]
          },
          "metadata": {},
          "execution_count": 2
        }
      ]
    },
    {
      "cell_type": "code",
      "source": [
        "# Reading dataset using pyspark\n",
        "spark_df = spark.read.csv(\"dataset.csv\", header=True, inferSchema=True)"
      ],
      "metadata": {
        "id": "z2bk9dDL00qH"
      },
      "execution_count": null,
      "outputs": []
    },
    {
      "cell_type": "code",
      "source": [
        "# Fetching first 5 rows to glance \n",
        "spark_df.show(5)"
      ],
      "metadata": {
        "colab": {
          "base_uri": "https://localhost:8080/"
        },
        "id": "mVn9PZQD0-3o",
        "outputId": "28a93309-bb2c-419d-9589-4e49393ee44f"
      },
      "execution_count": null,
      "outputs": [
        {
          "output_type": "stream",
          "name": "stdout",
          "text": [
            "+-------+---+----------+------+-----------+-------------+------------+-------+------+---------------+---------------------+--------------------+------------------+\n",
            "| Gender|Age|Study_year|Living|Scholarship|Part_time_job|Transporting|Smoking|Drinks|Games_&_Hobbies|Cosmetics_&_Self-care|Monthly_Subscription|Monthly_expenses_$|\n",
            "+-------+---+----------+------+-----------+-------------+------------+-------+------+---------------+---------------------+--------------------+------------------+\n",
            "|Female | 21|         2|  Home|         No|           No|          No|     No|    No|             No|                  Yes|                  No|               150|\n",
            "|  Male | 25|         3|Hostel|         No|          Yes|  Motorcycle|     No|    No|            Yes|                  Yes|                 Yes|               220|\n",
            "|  Male | 23|         2|  Home|        Yes|           No|          No|     No|    No|             No|                   No|                null|               180|\n",
            "|  Male | 19|         3|Hostel|         No|           No|  Motorcycle|     No|    No|            Yes|                  Yes|                 Yes|               200|\n",
            "|Female | 19|         2|  Home|         No|           No|  Motorcycle|     No|    No|             No|                  Yes|                  No|               300|\n",
            "+-------+---+----------+------+-----------+-------------+------------+-------+------+---------------+---------------------+--------------------+------------------+\n",
            "only showing top 5 rows\n",
            "\n"
          ]
        }
      ]
    },
    {
      "cell_type": "code",
      "source": [
        "# Getting a descriptive statistics\n",
        "spark_df.describe().show()"
      ],
      "metadata": {
        "id": "0-8IUi3p1A8A",
        "colab": {
          "base_uri": "https://localhost:8080/"
        },
        "outputId": "bce3e6de-9966-4efa-8620-89c591a3611d"
      },
      "execution_count": null,
      "outputs": [
        {
          "output_type": "stream",
          "name": "stdout",
          "text": [
            "+-------+-------+------------------+------------------+------+-----------+-------------+------------+-------+------+---------------+---------------------+--------------------+------------------+\n",
            "|summary| Gender|               Age|        Study_year|Living|Scholarship|Part_time_job|Transporting|Smoking|Drinks|Games_&_Hobbies|Cosmetics_&_Self-care|Monthly_Subscription|Monthly_expenses_$|\n",
            "+-------+-------+------------------+------------------+------+-----------+-------------+------------+-------+------+---------------+---------------------+--------------------+------------------+\n",
            "|  count|    105|               105|               101|   103|        105|          100|          91|     94|    92|            105|                   92|                  96|                99|\n",
            "|   mean|   null| 20.17142857142857|2.6534653465346536|  null|       null|         null|        null|   null|  null|           null|                 null|                null|214.94949494949495|\n",
            "| stddev|   null|1.8986692853009064|1.0043469874934305|  null|       null|         null|        null|   null|  null|           null|                 null|                null| 60.69955682475709|\n",
            "|    min|Female |                17|                 1|  Home|         No|           No|         Car|     No|    No|             No|                   No|                  No|               140|\n",
            "|    max|  Male |                25|                 4|Hostel|        Yes|          Yes|          No|    Yes|   Yes|            Yes|                  Yes|                 Yes|               350|\n",
            "+-------+-------+------------------+------------------+------+-----------+-------------+------------+-------+------+---------------+---------------------+--------------------+------------------+\n",
            "\n"
          ]
        }
      ]
    },
    {
      "cell_type": "code",
      "source": [
        "# updating the name of Monthly_expenses_$ to Monthly_expenses\n",
        "spark_df = spark_df.withColumn('Monthly_expenses', spark_df['Monthly_expenses_$'])\n",
        "spark_df = spark_df.drop(\"Monthly_expenses_$\")\n",
        "spark_df.show()"
      ],
      "metadata": {
        "colab": {
          "base_uri": "https://localhost:8080/"
        },
        "id": "g-pvg5eHKZEt",
        "outputId": "fe995e95-98b9-4522-f9d2-58948576a3bc"
      },
      "execution_count": null,
      "outputs": [
        {
          "output_type": "stream",
          "name": "stdout",
          "text": [
            "+-------+---+----------+------+-----------+-------------+------------+-------+------+---------------+---------------------+--------------------+----------------+\n",
            "| Gender|Age|Study_year|Living|Scholarship|Part_time_job|Transporting|Smoking|Drinks|Games_&_Hobbies|Cosmetics_&_Self-care|Monthly_Subscription|Monthly_expenses|\n",
            "+-------+---+----------+------+-----------+-------------+------------+-------+------+---------------+---------------------+--------------------+----------------+\n",
            "|Female | 21|         2|  Home|         No|           No|          No|     No|    No|             No|                  Yes|                  No|             150|\n",
            "|  Male | 25|         3|Hostel|         No|          Yes|  Motorcycle|     No|    No|            Yes|                  Yes|                 Yes|             220|\n",
            "|  Male | 23|         2|  Home|        Yes|           No|          No|     No|    No|             No|                   No|                null|             180|\n",
            "|  Male | 19|         3|Hostel|         No|           No|  Motorcycle|     No|    No|            Yes|                  Yes|                 Yes|             200|\n",
            "|Female | 19|         2|  Home|         No|           No|  Motorcycle|     No|    No|             No|                  Yes|                  No|             300|\n",
            "|  Male | 22|         3|Hostel|         No|          Yes|         Car|   null|   Yes|            Yes|                   No|                  No|             150|\n",
            "|Female | 21|         2|  Home|        Yes|           No|          No|     No|    No|            Yes|                   No|                 Yes|             200|\n",
            "|  Male | 22|         3|Hostel|         No|          Yes|  Motorcycle|    Yes|    No|            Yes|                 null|                 Yes|             200|\n",
            "|Female | 18|         1|  Home|        Yes|           No|          No|     No|    No|             No|                  Yes|                 Yes|             150|\n",
            "|  Male | 19|         1|  Home|         No|           No|          No|   null|    No|            Yes|                  Yes|                null|             160|\n",
            "|  Male | 22|         3|  Home|         No|           No|         Car|     No|    No|             No|                  Yes|                 Yes|             350|\n",
            "|  Male | 18|         2|Hostel|         No|           No|  Motorcycle|     No|    No|            Yes|                   No|                  No|             180|\n",
            "|Female | 18|         2|  Home|         No|           No|          No|     No|    No|            Yes|                  Yes|                  No|             140|\n",
            "|  Male | 19|         2|  Home|         No|          Yes|        null|    Yes|  null|            Yes|                 null|                  No|            null|\n",
            "|Female | 22|         4|Hostel|        Yes|          Yes|         Car|     No|    No|             No|                  Yes|                 Yes|             300|\n",
            "|  Male | 22|         4|  Home|         No|           No|         Car|     No|    No|            Yes|                   No|                  No|             250|\n",
            "|Female | 17|         1|  Home|         No|           No|         Car|     No|    No|             No|                   No|                  No|             250|\n",
            "|Female | 19|         2|Hostel|         No|         null|        null|     No|    No|            Yes|                  Yes|                  No|             150|\n",
            "|Female | 23|         4|  Home|         No|           No|          No|     No|  null|            Yes|                  Yes|                 Yes|             150|\n",
            "|Female | 19|         3|  Home|         No|           No|  Motorcycle|     No|    No|            Yes|                  Yes|                 Yes|             200|\n",
            "+-------+---+----------+------+-----------+-------------+------------+-------+------+---------------+---------------------+--------------------+----------------+\n",
            "only showing top 20 rows\n",
            "\n"
          ]
        }
      ]
    },
    {
      "cell_type": "code",
      "source": [
        "# Fetching students who spend more than 250 monthly\n",
        "spark_df.filter(\"Monthly_expenses > 250\").show()"
      ],
      "metadata": {
        "colab": {
          "base_uri": "https://localhost:8080/"
        },
        "id": "pQdVWKGIK58j",
        "outputId": "c04e7cdb-c578-4b58-bea1-4278ebd623a3"
      },
      "execution_count": null,
      "outputs": [
        {
          "output_type": "stream",
          "name": "stdout",
          "text": [
            "+-------+---+----------+------+-----------+-------------+------------+-------+------+---------------+---------------------+--------------------+----------------+\n",
            "| Gender|Age|Study_year|Living|Scholarship|Part_time_job|Transporting|Smoking|Drinks|Games_&_Hobbies|Cosmetics_&_Self-care|Monthly_Subscription|Monthly_expenses|\n",
            "+-------+---+----------+------+-----------+-------------+------------+-------+------+---------------+---------------------+--------------------+----------------+\n",
            "|Female | 19|         2|  Home|         No|           No|  Motorcycle|     No|    No|             No|                  Yes|                  No|             300|\n",
            "|  Male | 22|         3|  Home|         No|           No|         Car|     No|    No|             No|                  Yes|                 Yes|             350|\n",
            "|Female | 22|         4|Hostel|        Yes|          Yes|         Car|     No|    No|             No|                  Yes|                 Yes|             300|\n",
            "|  Male | 19|         2|Hostel|         No|          Yes|         Car|   null|    No|            Yes|                 null|                 Yes|             300|\n",
            "|  Male | 22|         4|  Home|        Yes|           No|          No|    Yes|   Yes|            Yes|                   No|                 Yes|             300|\n",
            "|  Male | 23|         4|  Home|         No|         null|         Car|    Yes|    No|            Yes|                 null|                  No|             350|\n",
            "|Female | 21|         4|  Home|         No|          Yes|  Motorcycle|   null|    No|             No|                  Yes|                null|             300|\n",
            "|Female | 18|         2|  Home|         No|           No|         Car|    Yes|    No|            Yes|                  Yes|                  No|             300|\n",
            "|Female | 22|         4|Hostel|        Yes|          Yes|        null|     No|    No|             No|                 null|                null|             280|\n",
            "|  Male | 22|         3|  Home|         No|           No|         Car|     No|    No|             No|                  Yes|                 Yes|             350|\n",
            "|Female | 22|         4|Hostel|        Yes|          Yes|         Car|     No|    No|             No|                  Yes|                 Yes|             300|\n",
            "|  Male | 22|         4|  Home|        Yes|           No|  Motorcycle|    Yes|   Yes|            Yes|                   No|                 Yes|             300|\n",
            "|Female | 21|         4|  Home|         No|          Yes|  Motorcycle|   null|    No|             No|                  Yes|                null|             300|\n",
            "|Female | 18|         2|  Home|         No|           No|         Car|    Yes|    No|            Yes|                  Yes|                  No|             300|\n",
            "|Female | 22|         4|Hostel|        Yes|          Yes|        null|     No|    No|             No|                 null|                null|             280|\n",
            "|  Male | 22|         3|  Home|         No|           No|         Car|     No|    No|             No|                  Yes|                 Yes|             350|\n",
            "|Female | 22|         4|Hostel|        Yes|          Yes|         Car|     No|    No|             No|                  Yes|                 Yes|             300|\n",
            "|Female | 19|         2|  Home|         No|           No|  Motorcycle|     No|    No|             No|                  Yes|                  No|             300|\n",
            "|  Male | 22|         3|  Home|         No|           No|         Car|     No|    No|             No|                  Yes|                 Yes|             350|\n",
            "|Female | 22|         4|Hostel|        Yes|          Yes|         Car|     No|    No|             No|                  Yes|                 Yes|             300|\n",
            "+-------+---+----------+------+-----------+-------------+------------+-------+------+---------------+---------------------+--------------------+----------------+\n",
            "only showing top 20 rows\n",
            "\n"
          ]
        }
      ]
    },
    {
      "cell_type": "code",
      "source": [
        "# another way to write above filter condition, which yelds the same result\n",
        "spark_df.filter(spark_df['Monthly_expenses'] > 250).show()"
      ],
      "metadata": {
        "colab": {
          "base_uri": "https://localhost:8080/"
        },
        "id": "FKviOpVNLzG8",
        "outputId": "b9edacdc-5218-4986-e25b-4f00e53dd1de"
      },
      "execution_count": null,
      "outputs": [
        {
          "output_type": "stream",
          "name": "stdout",
          "text": [
            "+-------+---+----------+------+-----------+-------------+------------+-------+------+---------------+---------------------+--------------------+----------------+\n",
            "| Gender|Age|Study_year|Living|Scholarship|Part_time_job|Transporting|Smoking|Drinks|Games_&_Hobbies|Cosmetics_&_Self-care|Monthly_Subscription|Monthly_expenses|\n",
            "+-------+---+----------+------+-----------+-------------+------------+-------+------+---------------+---------------------+--------------------+----------------+\n",
            "|Female | 19|         2|  Home|         No|           No|  Motorcycle|     No|    No|             No|                  Yes|                  No|             300|\n",
            "|  Male | 22|         3|  Home|         No|           No|         Car|     No|    No|             No|                  Yes|                 Yes|             350|\n",
            "|Female | 22|         4|Hostel|        Yes|          Yes|         Car|     No|    No|             No|                  Yes|                 Yes|             300|\n",
            "|  Male | 19|         2|Hostel|         No|          Yes|         Car|   null|    No|            Yes|                 null|                 Yes|             300|\n",
            "|  Male | 22|         4|  Home|        Yes|           No|          No|    Yes|   Yes|            Yes|                   No|                 Yes|             300|\n",
            "|  Male | 23|         4|  Home|         No|         null|         Car|    Yes|    No|            Yes|                 null|                  No|             350|\n",
            "|Female | 21|         4|  Home|         No|          Yes|  Motorcycle|   null|    No|             No|                  Yes|                null|             300|\n",
            "|Female | 18|         2|  Home|         No|           No|         Car|    Yes|    No|            Yes|                  Yes|                  No|             300|\n",
            "|Female | 22|         4|Hostel|        Yes|          Yes|        null|     No|    No|             No|                 null|                null|             280|\n",
            "|  Male | 22|         3|  Home|         No|           No|         Car|     No|    No|             No|                  Yes|                 Yes|             350|\n",
            "|Female | 22|         4|Hostel|        Yes|          Yes|         Car|     No|    No|             No|                  Yes|                 Yes|             300|\n",
            "|  Male | 22|         4|  Home|        Yes|           No|  Motorcycle|    Yes|   Yes|            Yes|                   No|                 Yes|             300|\n",
            "|Female | 21|         4|  Home|         No|          Yes|  Motorcycle|   null|    No|             No|                  Yes|                null|             300|\n",
            "|Female | 18|         2|  Home|         No|           No|         Car|    Yes|    No|            Yes|                  Yes|                  No|             300|\n",
            "|Female | 22|         4|Hostel|        Yes|          Yes|        null|     No|    No|             No|                 null|                null|             280|\n",
            "|  Male | 22|         3|  Home|         No|           No|         Car|     No|    No|             No|                  Yes|                 Yes|             350|\n",
            "|Female | 22|         4|Hostel|        Yes|          Yes|         Car|     No|    No|             No|                  Yes|                 Yes|             300|\n",
            "|Female | 19|         2|  Home|         No|           No|  Motorcycle|     No|    No|             No|                  Yes|                  No|             300|\n",
            "|  Male | 22|         3|  Home|         No|           No|         Car|     No|    No|             No|                  Yes|                 Yes|             350|\n",
            "|Female | 22|         4|Hostel|        Yes|          Yes|         Car|     No|    No|             No|                  Yes|                 Yes|             300|\n",
            "+-------+---+----------+------+-----------+-------------+------------+-------+------+---------------+---------------------+--------------------+----------------+\n",
            "only showing top 20 rows\n",
            "\n"
          ]
        }
      ]
    },
    {
      "cell_type": "code",
      "source": [
        "# Filtering with mutliple conditions, \n",
        "# for example - \n",
        "# boys who spend more than 250 per month and are under 20 years old\n",
        "\n",
        "spark_df.filter( \n",
        "    (spark_df['Gender'] == \"Male \") & \n",
        "    (spark_df['Monthly_expenses'] > 250) & \n",
        "    (spark_df['Age'] <= 20)\n",
        "     ).show()"
      ],
      "metadata": {
        "colab": {
          "base_uri": "https://localhost:8080/"
        },
        "id": "0iQ-AglGMOgb",
        "outputId": "664e8167-b157-424c-d641-a3e12589a4d6"
      },
      "execution_count": null,
      "outputs": [
        {
          "output_type": "stream",
          "name": "stdout",
          "text": [
            "+------+---+----------+------+-----------+-------------+------------+-------+------+---------------+---------------------+--------------------+----------------+\n",
            "|Gender|Age|Study_year|Living|Scholarship|Part_time_job|Transporting|Smoking|Drinks|Games_&_Hobbies|Cosmetics_&_Self-care|Monthly_Subscription|Monthly_expenses|\n",
            "+------+---+----------+------+-----------+-------------+------------+-------+------+---------------+---------------------+--------------------+----------------+\n",
            "| Male | 19|         2|Hostel|         No|          Yes|         Car|   null|    No|            Yes|                 null|                 Yes|             300|\n",
            "+------+---+----------+------+-----------+-------------+------------+-------+------+---------------+---------------------+--------------------+----------------+\n",
            "\n"
          ]
        }
      ]
    },
    {
      "cell_type": "code",
      "source": [],
      "metadata": {
        "id": "PjSPMienNGKi"
      },
      "execution_count": null,
      "outputs": []
    }
  ]
}