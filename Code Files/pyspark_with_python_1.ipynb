{
  "nbformat": 4,
  "nbformat_minor": 0,
  "metadata": {
    "colab": {
      "provenance": [],
      "collapsed_sections": []
    },
    "kernelspec": {
      "name": "python3",
      "display_name": "Python 3"
    },
    "language_info": {
      "name": "python"
    }
  },
  "cells": [
    {
      "cell_type": "markdown",
      "source": [
        "#Introduction to PySpark\n",
        "<hr>"
      ],
      "metadata": {
        "id": "6l_UCE69lZIl"
      }
    },
    {
      "cell_type": "code",
      "execution_count": null,
      "metadata": {
        "colab": {
          "base_uri": "https://localhost:8080/"
        },
        "id": "AbROQpw5eoJH",
        "outputId": "13bd6260-d2ba-4b86-e24a-a895c7b38989"
      },
      "outputs": [
        {
          "output_type": "stream",
          "name": "stdout",
          "text": [
            "Looking in indexes: https://pypi.org/simple, https://us-python.pkg.dev/colab-wheels/public/simple/\n",
            "Collecting pyspark\n",
            "  Downloading pyspark-3.3.0.tar.gz (281.3 MB)\n",
            "\u001b[K     |████████████████████████████████| 281.3 MB 36 kB/s \n",
            "\u001b[?25hCollecting py4j==0.10.9.5\n",
            "  Downloading py4j-0.10.9.5-py2.py3-none-any.whl (199 kB)\n",
            "\u001b[K     |████████████████████████████████| 199 kB 45.5 MB/s \n",
            "\u001b[?25hBuilding wheels for collected packages: pyspark\n",
            "  Building wheel for pyspark (setup.py) ... \u001b[?25l\u001b[?25hdone\n",
            "  Created wheel for pyspark: filename=pyspark-3.3.0-py2.py3-none-any.whl size=281764026 sha256=a9b7d76395c9cd5c1d4d6c90b20028af1549a74187a544e6f7907b53e45ff75d\n",
            "  Stored in directory: /root/.cache/pip/wheels/7a/8e/1b/f73a52650d2e5f337708d9f6a1750d451a7349a867f928b885\n",
            "Successfully built pyspark\n",
            "Installing collected packages: py4j, pyspark\n",
            "Successfully installed py4j-0.10.9.5 pyspark-3.3.0\n"
          ]
        }
      ],
      "source": [
        "# Installation of pyspark package\n",
        "!pip install pyspark"
      ]
    },
    {
      "cell_type": "code",
      "source": [
        "import pyspark"
      ],
      "metadata": {
        "id": "uRj2zO_VeziG"
      },
      "execution_count": null,
      "outputs": []
    },
    {
      "cell_type": "code",
      "source": [
        "# First reading dataset with pandas lib\n",
        "import pandas as pd\n",
        "pandas_df = pd.read_csv(\"dataset.csv\")\n",
        "pandas_df.head()"
      ],
      "metadata": {
        "colab": {
          "base_uri": "https://localhost:8080/",
          "height": 206
        },
        "id": "pI8tynTzgtM1",
        "outputId": "fb79c529-4e3f-4281-ebe3-8041f31f6cea"
      },
      "execution_count": null,
      "outputs": [
        {
          "output_type": "execute_result",
          "data": {
            "text/plain": [
              "    Gender  Age  Study_year  Living Scholarship Part_time_job Transporting  \\\n",
              "0  Female    21         2.0    Home          No            No           No   \n",
              "1    Male    25         3.0  Hostel          No           Yes   Motorcycle   \n",
              "2    Male    23         2.0    Home         Yes            No           No   \n",
              "3    Male    19         3.0  Hostel          No            No   Motorcycle   \n",
              "4  Female    19         2.0    Home          No            No   Motorcycle   \n",
              "\n",
              "  Smoking Drinks Games_&_Hobbies Cosmetics_&_Self-care Monthly_Subscription  \\\n",
              "0      No     No              No                   Yes                   No   \n",
              "1      No     No             Yes                   Yes                  Yes   \n",
              "2      No     No              No                    No                  NaN   \n",
              "3      No     No             Yes                   Yes                  Yes   \n",
              "4      No     No              No                   Yes                   No   \n",
              "\n",
              "   Monthly_expenses_$  \n",
              "0               150.0  \n",
              "1               220.0  \n",
              "2               180.0  \n",
              "3               200.0  \n",
              "4               300.0  "
            ],
            "text/html": [
              "\n",
              "  <div id=\"df-588052e4-ab95-4a71-af24-305203e9d093\">\n",
              "    <div class=\"colab-df-container\">\n",
              "      <div>\n",
              "<style scoped>\n",
              "    .dataframe tbody tr th:only-of-type {\n",
              "        vertical-align: middle;\n",
              "    }\n",
              "\n",
              "    .dataframe tbody tr th {\n",
              "        vertical-align: top;\n",
              "    }\n",
              "\n",
              "    .dataframe thead th {\n",
              "        text-align: right;\n",
              "    }\n",
              "</style>\n",
              "<table border=\"1\" class=\"dataframe\">\n",
              "  <thead>\n",
              "    <tr style=\"text-align: right;\">\n",
              "      <th></th>\n",
              "      <th>Gender</th>\n",
              "      <th>Age</th>\n",
              "      <th>Study_year</th>\n",
              "      <th>Living</th>\n",
              "      <th>Scholarship</th>\n",
              "      <th>Part_time_job</th>\n",
              "      <th>Transporting</th>\n",
              "      <th>Smoking</th>\n",
              "      <th>Drinks</th>\n",
              "      <th>Games_&amp;_Hobbies</th>\n",
              "      <th>Cosmetics_&amp;_Self-care</th>\n",
              "      <th>Monthly_Subscription</th>\n",
              "      <th>Monthly_expenses_$</th>\n",
              "    </tr>\n",
              "  </thead>\n",
              "  <tbody>\n",
              "    <tr>\n",
              "      <th>0</th>\n",
              "      <td>Female</td>\n",
              "      <td>21</td>\n",
              "      <td>2.0</td>\n",
              "      <td>Home</td>\n",
              "      <td>No</td>\n",
              "      <td>No</td>\n",
              "      <td>No</td>\n",
              "      <td>No</td>\n",
              "      <td>No</td>\n",
              "      <td>No</td>\n",
              "      <td>Yes</td>\n",
              "      <td>No</td>\n",
              "      <td>150.0</td>\n",
              "    </tr>\n",
              "    <tr>\n",
              "      <th>1</th>\n",
              "      <td>Male</td>\n",
              "      <td>25</td>\n",
              "      <td>3.0</td>\n",
              "      <td>Hostel</td>\n",
              "      <td>No</td>\n",
              "      <td>Yes</td>\n",
              "      <td>Motorcycle</td>\n",
              "      <td>No</td>\n",
              "      <td>No</td>\n",
              "      <td>Yes</td>\n",
              "      <td>Yes</td>\n",
              "      <td>Yes</td>\n",
              "      <td>220.0</td>\n",
              "    </tr>\n",
              "    <tr>\n",
              "      <th>2</th>\n",
              "      <td>Male</td>\n",
              "      <td>23</td>\n",
              "      <td>2.0</td>\n",
              "      <td>Home</td>\n",
              "      <td>Yes</td>\n",
              "      <td>No</td>\n",
              "      <td>No</td>\n",
              "      <td>No</td>\n",
              "      <td>No</td>\n",
              "      <td>No</td>\n",
              "      <td>No</td>\n",
              "      <td>NaN</td>\n",
              "      <td>180.0</td>\n",
              "    </tr>\n",
              "    <tr>\n",
              "      <th>3</th>\n",
              "      <td>Male</td>\n",
              "      <td>19</td>\n",
              "      <td>3.0</td>\n",
              "      <td>Hostel</td>\n",
              "      <td>No</td>\n",
              "      <td>No</td>\n",
              "      <td>Motorcycle</td>\n",
              "      <td>No</td>\n",
              "      <td>No</td>\n",
              "      <td>Yes</td>\n",
              "      <td>Yes</td>\n",
              "      <td>Yes</td>\n",
              "      <td>200.0</td>\n",
              "    </tr>\n",
              "    <tr>\n",
              "      <th>4</th>\n",
              "      <td>Female</td>\n",
              "      <td>19</td>\n",
              "      <td>2.0</td>\n",
              "      <td>Home</td>\n",
              "      <td>No</td>\n",
              "      <td>No</td>\n",
              "      <td>Motorcycle</td>\n",
              "      <td>No</td>\n",
              "      <td>No</td>\n",
              "      <td>No</td>\n",
              "      <td>Yes</td>\n",
              "      <td>No</td>\n",
              "      <td>300.0</td>\n",
              "    </tr>\n",
              "  </tbody>\n",
              "</table>\n",
              "</div>\n",
              "      <button class=\"colab-df-convert\" onclick=\"convertToInteractive('df-588052e4-ab95-4a71-af24-305203e9d093')\"\n",
              "              title=\"Convert this dataframe to an interactive table.\"\n",
              "              style=\"display:none;\">\n",
              "        \n",
              "  <svg xmlns=\"http://www.w3.org/2000/svg\" height=\"24px\"viewBox=\"0 0 24 24\"\n",
              "       width=\"24px\">\n",
              "    <path d=\"M0 0h24v24H0V0z\" fill=\"none\"/>\n",
              "    <path d=\"M18.56 5.44l.94 2.06.94-2.06 2.06-.94-2.06-.94-.94-2.06-.94 2.06-2.06.94zm-11 1L8.5 8.5l.94-2.06 2.06-.94-2.06-.94L8.5 2.5l-.94 2.06-2.06.94zm10 10l.94 2.06.94-2.06 2.06-.94-2.06-.94-.94-2.06-.94 2.06-2.06.94z\"/><path d=\"M17.41 7.96l-1.37-1.37c-.4-.4-.92-.59-1.43-.59-.52 0-1.04.2-1.43.59L10.3 9.45l-7.72 7.72c-.78.78-.78 2.05 0 2.83L4 21.41c.39.39.9.59 1.41.59.51 0 1.02-.2 1.41-.59l7.78-7.78 2.81-2.81c.8-.78.8-2.07 0-2.86zM5.41 20L4 18.59l7.72-7.72 1.47 1.35L5.41 20z\"/>\n",
              "  </svg>\n",
              "      </button>\n",
              "      \n",
              "  <style>\n",
              "    .colab-df-container {\n",
              "      display:flex;\n",
              "      flex-wrap:wrap;\n",
              "      gap: 12px;\n",
              "    }\n",
              "\n",
              "    .colab-df-convert {\n",
              "      background-color: #E8F0FE;\n",
              "      border: none;\n",
              "      border-radius: 50%;\n",
              "      cursor: pointer;\n",
              "      display: none;\n",
              "      fill: #1967D2;\n",
              "      height: 32px;\n",
              "      padding: 0 0 0 0;\n",
              "      width: 32px;\n",
              "    }\n",
              "\n",
              "    .colab-df-convert:hover {\n",
              "      background-color: #E2EBFA;\n",
              "      box-shadow: 0px 1px 2px rgba(60, 64, 67, 0.3), 0px 1px 3px 1px rgba(60, 64, 67, 0.15);\n",
              "      fill: #174EA6;\n",
              "    }\n",
              "\n",
              "    [theme=dark] .colab-df-convert {\n",
              "      background-color: #3B4455;\n",
              "      fill: #D2E3FC;\n",
              "    }\n",
              "\n",
              "    [theme=dark] .colab-df-convert:hover {\n",
              "      background-color: #434B5C;\n",
              "      box-shadow: 0px 1px 3px 1px rgba(0, 0, 0, 0.15);\n",
              "      filter: drop-shadow(0px 1px 2px rgba(0, 0, 0, 0.3));\n",
              "      fill: #FFFFFF;\n",
              "    }\n",
              "  </style>\n",
              "\n",
              "      <script>\n",
              "        const buttonEl =\n",
              "          document.querySelector('#df-588052e4-ab95-4a71-af24-305203e9d093 button.colab-df-convert');\n",
              "        buttonEl.style.display =\n",
              "          google.colab.kernel.accessAllowed ? 'block' : 'none';\n",
              "\n",
              "        async function convertToInteractive(key) {\n",
              "          const element = document.querySelector('#df-588052e4-ab95-4a71-af24-305203e9d093');\n",
              "          const dataTable =\n",
              "            await google.colab.kernel.invokeFunction('convertToInteractive',\n",
              "                                                     [key], {});\n",
              "          if (!dataTable) return;\n",
              "\n",
              "          const docLinkHtml = 'Like what you see? Visit the ' +\n",
              "            '<a target=\"_blank\" href=https://colab.research.google.com/notebooks/data_table.ipynb>data table notebook</a>'\n",
              "            + ' to learn more about interactive tables.';\n",
              "          element.innerHTML = '';\n",
              "          dataTable['output_type'] = 'display_data';\n",
              "          await google.colab.output.renderOutput(dataTable, element);\n",
              "          const docLink = document.createElement('div');\n",
              "          docLink.innerHTML = docLinkHtml;\n",
              "          element.appendChild(docLink);\n",
              "        }\n",
              "      </script>\n",
              "    </div>\n",
              "  </div>\n",
              "  "
            ]
          },
          "metadata": {},
          "execution_count": 3
        }
      ]
    },
    {
      "cell_type": "code",
      "source": [
        "# Checking the datatypes of respective columns\n",
        "pandas_df.dtypes"
      ],
      "metadata": {
        "colab": {
          "base_uri": "https://localhost:8080/"
        },
        "id": "UfiBd_Zjky91",
        "outputId": "ca813fac-71a3-4263-f591-1ffe2619a446"
      },
      "execution_count": null,
      "outputs": [
        {
          "output_type": "execute_result",
          "data": {
            "text/plain": [
              "Gender                    object\n",
              "Age                        int64\n",
              "Study_year               float64\n",
              "Living                    object\n",
              "Scholarship               object\n",
              "Part_time_job             object\n",
              "Transporting              object\n",
              "Smoking                   object\n",
              "Drinks                    object\n",
              "Games_&_Hobbies           object\n",
              "Cosmetics_&_Self-care     object\n",
              "Monthly_Subscription      object\n",
              "Monthly_expenses_$       float64\n",
              "dtype: object"
            ]
          },
          "metadata": {},
          "execution_count": 8
        }
      ]
    },
    {
      "cell_type": "code",
      "source": [
        "# creating spark session\n",
        "from pyspark.sql import SparkSession\n",
        "\n",
        "spark = SparkSession.builder.appName(\"Intro\").getOrCreate()\n",
        "spark"
      ],
      "metadata": {
        "colab": {
          "base_uri": "https://localhost:8080/",
          "height": 219
        },
        "id": "DvRoa0DPiodO",
        "outputId": "07204548-46ae-47aa-b722-21604a8cc335"
      },
      "execution_count": null,
      "outputs": [
        {
          "output_type": "execute_result",
          "data": {
            "text/plain": [
              "<pyspark.sql.session.SparkSession at 0x7f9bd4723790>"
            ],
            "text/html": [
              "\n",
              "            <div>\n",
              "                <p><b>SparkSession - in-memory</b></p>\n",
              "                \n",
              "        <div>\n",
              "            <p><b>SparkContext</b></p>\n",
              "\n",
              "            <p><a href=\"http://3b05ac426f4d:4040\">Spark UI</a></p>\n",
              "\n",
              "            <dl>\n",
              "              <dt>Version</dt>\n",
              "                <dd><code>v3.3.0</code></dd>\n",
              "              <dt>Master</dt>\n",
              "                <dd><code>local[*]</code></dd>\n",
              "              <dt>AppName</dt>\n",
              "                <dd><code>Intro</code></dd>\n",
              "            </dl>\n",
              "        </div>\n",
              "        \n",
              "            </div>\n",
              "        "
            ]
          },
          "metadata": {},
          "execution_count": 4
        }
      ]
    },
    {
      "cell_type": "code",
      "source": [
        "# Reading dataset using pyspark\n",
        "spark_df = spark.read.csv(\"dataset.csv\")"
      ],
      "metadata": {
        "id": "uAvLyVXFkGQ-"
      },
      "execution_count": null,
      "outputs": []
    },
    {
      "cell_type": "code",
      "source": [
        "# spark dataframe object\n",
        "spark_df"
      ],
      "metadata": {
        "colab": {
          "base_uri": "https://localhost:8080/"
        },
        "id": "7EtuEzS4kTd1",
        "outputId": "f5896f12-0021-4402-e752-1ee58a0d885b"
      },
      "execution_count": null,
      "outputs": [
        {
          "output_type": "execute_result",
          "data": {
            "text/plain": [
              "DataFrame[_c0: string, _c1: string, _c2: string, _c3: string, _c4: string, _c5: string, _c6: string, _c7: string, _c8: string, _c9: string, _c10: string, _c11: string, _c12: string]"
            ]
          },
          "metadata": {},
          "execution_count": 6
        }
      ]
    },
    {
      "cell_type": "code",
      "source": [
        "# Looking at spark dataframe\n",
        "spark_df.show()"
      ],
      "metadata": {
        "colab": {
          "base_uri": "https://localhost:8080/"
        },
        "id": "pvyUDFSQkZQM",
        "outputId": "fbc5168e-164d-4d67-ac88-17f4d77353c0"
      },
      "execution_count": null,
      "outputs": [
        {
          "output_type": "stream",
          "name": "stdout",
          "text": [
            "+-------+---+----------+------+-----------+-------------+------------+-------+------+---------------+--------------------+--------------------+------------------+\n",
            "|    _c0|_c1|       _c2|   _c3|        _c4|          _c5|         _c6|    _c7|   _c8|            _c9|                _c10|                _c11|              _c12|\n",
            "+-------+---+----------+------+-----------+-------------+------------+-------+------+---------------+--------------------+--------------------+------------------+\n",
            "| Gender|Age|Study_year|Living|Scholarship|Part_time_job|Transporting|Smoking|Drinks|Games_&_Hobbies|Cosmetics_&_Self-...|Monthly_Subscription|Monthly_expenses_$|\n",
            "|Female | 21|         2|  Home|         No|           No|          No|     No|    No|             No|                 Yes|                  No|               150|\n",
            "|  Male | 25|         3|Hostel|         No|          Yes|  Motorcycle|     No|    No|            Yes|                 Yes|                 Yes|               220|\n",
            "|  Male | 23|         2|  Home|        Yes|           No|          No|     No|    No|             No|                  No|                null|               180|\n",
            "|  Male | 19|         3|Hostel|         No|           No|  Motorcycle|     No|    No|            Yes|                 Yes|                 Yes|               200|\n",
            "|Female | 19|         2|  Home|         No|           No|  Motorcycle|     No|    No|             No|                 Yes|                  No|               300|\n",
            "|  Male | 22|         3|Hostel|         No|          Yes|         Car|   null|   Yes|            Yes|                  No|                  No|               150|\n",
            "|Female | 21|         2|  Home|        Yes|           No|          No|     No|    No|            Yes|                  No|                 Yes|               200|\n",
            "|  Male | 22|         3|Hostel|         No|          Yes|  Motorcycle|    Yes|    No|            Yes|                null|                 Yes|               200|\n",
            "|Female | 18|         1|  Home|        Yes|           No|          No|     No|    No|             No|                 Yes|                 Yes|               150|\n",
            "|  Male | 19|         1|  Home|         No|           No|          No|   null|    No|            Yes|                 Yes|                null|               160|\n",
            "|  Male | 22|         3|  Home|         No|           No|         Car|     No|    No|             No|                 Yes|                 Yes|               350|\n",
            "|  Male | 18|         2|Hostel|         No|           No|  Motorcycle|     No|    No|            Yes|                  No|                  No|               180|\n",
            "|Female | 18|         2|  Home|         No|           No|          No|     No|    No|            Yes|                 Yes|                  No|               140|\n",
            "|  Male | 19|         2|  Home|         No|          Yes|        null|    Yes|  null|            Yes|                null|                  No|              null|\n",
            "|Female | 22|         4|Hostel|        Yes|          Yes|         Car|     No|    No|             No|                 Yes|                 Yes|               300|\n",
            "|  Male | 22|         4|  Home|         No|           No|         Car|     No|    No|            Yes|                  No|                  No|               250|\n",
            "|Female | 17|         1|  Home|         No|           No|         Car|     No|    No|             No|                  No|                  No|               250|\n",
            "|Female | 19|         2|Hostel|         No|         null|        null|     No|    No|            Yes|                 Yes|                  No|               150|\n",
            "|Female | 23|         4|  Home|         No|           No|          No|     No|  null|            Yes|                 Yes|                 Yes|               150|\n",
            "+-------+---+----------+------+-----------+-------------+------------+-------+------+---------------+--------------------+--------------------+------------------+\n",
            "only showing top 20 rows\n",
            "\n"
          ]
        }
      ]
    },
    {
      "cell_type": "code",
      "source": [
        "spark_df.dtypes"
      ],
      "metadata": {
        "colab": {
          "base_uri": "https://localhost:8080/"
        },
        "id": "aqA-Qgglk9Vl",
        "outputId": "e6ee9d77-570a-48b7-8189-49d190a04a0d"
      },
      "execution_count": null,
      "outputs": [
        {
          "output_type": "execute_result",
          "data": {
            "text/plain": [
              "[('_c0', 'string'),\n",
              " ('_c1', 'string'),\n",
              " ('_c2', 'string'),\n",
              " ('_c3', 'string'),\n",
              " ('_c4', 'string'),\n",
              " ('_c5', 'string'),\n",
              " ('_c6', 'string'),\n",
              " ('_c7', 'string'),\n",
              " ('_c8', 'string'),\n",
              " ('_c9', 'string'),\n",
              " ('_c10', 'string'),\n",
              " ('_c11', 'string'),\n",
              " ('_c12', 'string')]"
            ]
          },
          "metadata": {},
          "execution_count": 10
        }
      ]
    },
    {
      "cell_type": "code",
      "source": [
        "# Column Header or datatype of columns are not identified by default so we would need to read the dataset by specifying those things\n",
        "spark_df = spark.read.csv(\"dataset.csv\", header=True, inferSchema=True)\n",
        "spark_df.show()"
      ],
      "metadata": {
        "colab": {
          "base_uri": "https://localhost:8080/"
        },
        "id": "pt8PlpeOkmBs",
        "outputId": "5d835c4b-c263-401e-e2b0-1d0aadbcf719"
      },
      "execution_count": null,
      "outputs": [
        {
          "output_type": "stream",
          "name": "stdout",
          "text": [
            "+-------+---+----------+------+-----------+-------------+------------+-------+------+---------------+---------------------+--------------------+------------------+\n",
            "| Gender|Age|Study_year|Living|Scholarship|Part_time_job|Transporting|Smoking|Drinks|Games_&_Hobbies|Cosmetics_&_Self-care|Monthly_Subscription|Monthly_expenses_$|\n",
            "+-------+---+----------+------+-----------+-------------+------------+-------+------+---------------+---------------------+--------------------+------------------+\n",
            "|Female | 21|         2|  Home|         No|           No|          No|     No|    No|             No|                  Yes|                  No|               150|\n",
            "|  Male | 25|         3|Hostel|         No|          Yes|  Motorcycle|     No|    No|            Yes|                  Yes|                 Yes|               220|\n",
            "|  Male | 23|         2|  Home|        Yes|           No|          No|     No|    No|             No|                   No|                null|               180|\n",
            "|  Male | 19|         3|Hostel|         No|           No|  Motorcycle|     No|    No|            Yes|                  Yes|                 Yes|               200|\n",
            "|Female | 19|         2|  Home|         No|           No|  Motorcycle|     No|    No|             No|                  Yes|                  No|               300|\n",
            "|  Male | 22|         3|Hostel|         No|          Yes|         Car|   null|   Yes|            Yes|                   No|                  No|               150|\n",
            "|Female | 21|         2|  Home|        Yes|           No|          No|     No|    No|            Yes|                   No|                 Yes|               200|\n",
            "|  Male | 22|         3|Hostel|         No|          Yes|  Motorcycle|    Yes|    No|            Yes|                 null|                 Yes|               200|\n",
            "|Female | 18|         1|  Home|        Yes|           No|          No|     No|    No|             No|                  Yes|                 Yes|               150|\n",
            "|  Male | 19|         1|  Home|         No|           No|          No|   null|    No|            Yes|                  Yes|                null|               160|\n",
            "|  Male | 22|         3|  Home|         No|           No|         Car|     No|    No|             No|                  Yes|                 Yes|               350|\n",
            "|  Male | 18|         2|Hostel|         No|           No|  Motorcycle|     No|    No|            Yes|                   No|                  No|               180|\n",
            "|Female | 18|         2|  Home|         No|           No|          No|     No|    No|            Yes|                  Yes|                  No|               140|\n",
            "|  Male | 19|         2|  Home|         No|          Yes|        null|    Yes|  null|            Yes|                 null|                  No|              null|\n",
            "|Female | 22|         4|Hostel|        Yes|          Yes|         Car|     No|    No|             No|                  Yes|                 Yes|               300|\n",
            "|  Male | 22|         4|  Home|         No|           No|         Car|     No|    No|            Yes|                   No|                  No|               250|\n",
            "|Female | 17|         1|  Home|         No|           No|         Car|     No|    No|             No|                   No|                  No|               250|\n",
            "|Female | 19|         2|Hostel|         No|         null|        null|     No|    No|            Yes|                  Yes|                  No|               150|\n",
            "|Female | 23|         4|  Home|         No|           No|          No|     No|  null|            Yes|                  Yes|                 Yes|               150|\n",
            "|Female | 19|         3|  Home|         No|           No|  Motorcycle|     No|    No|            Yes|                  Yes|                 Yes|               200|\n",
            "+-------+---+----------+------+-----------+-------------+------------+-------+------+---------------+---------------------+--------------------+------------------+\n",
            "only showing top 20 rows\n",
            "\n"
          ]
        }
      ]
    },
    {
      "cell_type": "code",
      "source": [
        "# Checking the change in column names and their datatypes\n",
        "spark_df.dtypes"
      ],
      "metadata": {
        "colab": {
          "base_uri": "https://localhost:8080/"
        },
        "id": "5yxVOeoTlI9O",
        "outputId": "d389ed43-e108-4c20-b864-b4e13201bb5f"
      },
      "execution_count": null,
      "outputs": [
        {
          "output_type": "execute_result",
          "data": {
            "text/plain": [
              "[('Gender', 'string'),\n",
              " ('Age', 'int'),\n",
              " ('Study_year', 'int'),\n",
              " ('Living', 'string'),\n",
              " ('Scholarship', 'string'),\n",
              " ('Part_time_job', 'string'),\n",
              " ('Transporting', 'string'),\n",
              " ('Smoking', 'string'),\n",
              " ('Drinks', 'string'),\n",
              " ('Games_&_Hobbies', 'string'),\n",
              " ('Cosmetics_&_Self-care', 'string'),\n",
              " ('Monthly_Subscription', 'string'),\n",
              " ('Monthly_expenses_$', 'int')]"
            ]
          },
          "metadata": {},
          "execution_count": 12
        }
      ]
    },
    {
      "cell_type": "markdown",
      "source": [
        "### Let's check the difference in the object type of dataFrame by pandas & pyspark"
      ],
      "metadata": {
        "id": "QYtt8-lEl5HV"
      }
    },
    {
      "cell_type": "code",
      "source": [
        "# pandas\n",
        "type(pandas_df)\n"
      ],
      "metadata": {
        "colab": {
          "base_uri": "https://localhost:8080/"
        },
        "id": "zf13WCBUlNFG",
        "outputId": "df8d85ad-a8d5-4c4d-ab68-a6270b12614a"
      },
      "execution_count": null,
      "outputs": [
        {
          "output_type": "execute_result",
          "data": {
            "text/plain": [
              "pandas.core.frame.DataFrame"
            ]
          },
          "metadata": {},
          "execution_count": 13
        }
      ]
    },
    {
      "cell_type": "code",
      "source": [
        "# pyspark\n",
        "type(spark_df)"
      ],
      "metadata": {
        "colab": {
          "base_uri": "https://localhost:8080/"
        },
        "id": "uQJGD6iCmAl9",
        "outputId": "760e4a81-88fc-460f-9124-3b29e7e7fa72"
      },
      "execution_count": null,
      "outputs": [
        {
          "output_type": "execute_result",
          "data": {
            "text/plain": [
              "pyspark.sql.dataframe.DataFrame"
            ]
          },
          "metadata": {},
          "execution_count": 14
        }
      ]
    },
    {
      "cell_type": "code",
      "source": [],
      "metadata": {
        "id": "yQPayjLymG8t"
      },
      "execution_count": null,
      "outputs": []
    }
  ]
}