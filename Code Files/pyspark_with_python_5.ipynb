{
  "nbformat": 4,
  "nbformat_minor": 0,
  "metadata": {
    "colab": {
      "provenance": []
    },
    "kernelspec": {
      "name": "python3",
      "display_name": "Python 3"
    },
    "language_info": {
      "name": "python"
    }
  },
  "cells": [
    {
      "cell_type": "markdown",
      "source": [
        "# Grouping and Aggregation Operations\n",
        "<hr>"
      ],
      "metadata": {
        "id": "dhYh2zAHPwTc"
      }
    },
    {
      "cell_type": "code",
      "execution_count": null,
      "metadata": {
        "colab": {
          "base_uri": "https://localhost:8080/"
        },
        "id": "ilONVej1O_Zu",
        "outputId": "ec06a020-84df-4af9-c391-e35bfc5fb267"
      },
      "outputs": [
        {
          "output_type": "stream",
          "name": "stdout",
          "text": [
            "Looking in indexes: https://pypi.org/simple, https://us-python.pkg.dev/colab-wheels/public/simple/\n",
            "Collecting pyspark\n",
            "  Downloading pyspark-3.3.0.tar.gz (281.3 MB)\n",
            "\u001b[K     |████████████████████████████████| 281.3 MB 45 kB/s \n",
            "\u001b[?25hCollecting py4j==0.10.9.5\n",
            "  Downloading py4j-0.10.9.5-py2.py3-none-any.whl (199 kB)\n",
            "\u001b[K     |████████████████████████████████| 199 kB 50.4 MB/s \n",
            "\u001b[?25hBuilding wheels for collected packages: pyspark\n",
            "  Building wheel for pyspark (setup.py) ... \u001b[?25l\u001b[?25hdone\n",
            "  Created wheel for pyspark: filename=pyspark-3.3.0-py2.py3-none-any.whl size=281764026 sha256=a60e47212c160e13881543edf2e06f314adf92b92ffd4fa66c43073c796e2a47\n",
            "  Stored in directory: /root/.cache/pip/wheels/7a/8e/1b/f73a52650d2e5f337708d9f6a1750d451a7349a867f928b885\n",
            "Successfully built pyspark\n",
            "Installing collected packages: py4j, pyspark\n",
            "Successfully installed py4j-0.10.9.5 pyspark-3.3.0\n"
          ]
        }
      ],
      "source": [
        "# Installation of PySpark package\n",
        "!pip install pyspark"
      ]
    },
    {
      "cell_type": "code",
      "source": [
        "# Creation of Spark session\n",
        "from pyspark.sql import SparkSession\n",
        "spark = SparkSession.builder.appName(\"Grouping Operation\").getOrCreate()\n",
        "spark"
      ],
      "metadata": {
        "colab": {
          "base_uri": "https://localhost:8080/",
          "height": 219
        },
        "id": "_F0f-5jHPKAb",
        "outputId": "a7d2f7c8-8dc7-4e5d-838f-e91edb371624"
      },
      "execution_count": null,
      "outputs": [
        {
          "output_type": "execute_result",
          "data": {
            "text/plain": [
              "<pyspark.sql.session.SparkSession at 0x7f5ea9f8b0d0>"
            ],
            "text/html": [
              "\n",
              "            <div>\n",
              "                <p><b>SparkSession - in-memory</b></p>\n",
              "                \n",
              "        <div>\n",
              "            <p><b>SparkContext</b></p>\n",
              "\n",
              "            <p><a href=\"http://4798eba5a1cb:4040\">Spark UI</a></p>\n",
              "\n",
              "            <dl>\n",
              "              <dt>Version</dt>\n",
              "                <dd><code>v3.3.0</code></dd>\n",
              "              <dt>Master</dt>\n",
              "                <dd><code>local[*]</code></dd>\n",
              "              <dt>AppName</dt>\n",
              "                <dd><code>Grouping Operation</code></dd>\n",
              "            </dl>\n",
              "        </div>\n",
              "        \n",
              "            </div>\n",
              "        "
            ]
          },
          "metadata": {},
          "execution_count": 2
        }
      ]
    },
    {
      "cell_type": "code",
      "source": [
        "# Reading Dataset\n",
        "spark_df = spark.read.csv(\"dataset.csv\", header=True, inferSchema=True)\n",
        "spark_df.show()"
      ],
      "metadata": {
        "colab": {
          "base_uri": "https://localhost:8080/"
        },
        "id": "K_rFXXenPdbs",
        "outputId": "820cf86c-ea00-4a3c-b218-a3552ba3a162"
      },
      "execution_count": null,
      "outputs": [
        {
          "output_type": "stream",
          "name": "stdout",
          "text": [
            "+-------+---+----------+------+-----------+-------------+------------+-------+------+---------------+---------------------+--------------------+------------------+\n",
            "| Gender|Age|Study_year|Living|Scholarship|Part_time_job|Transporting|Smoking|Drinks|Games_&_Hobbies|Cosmetics_&_Self-care|Monthly_Subscription|Monthly_expenses_$|\n",
            "+-------+---+----------+------+-----------+-------------+------------+-------+------+---------------+---------------------+--------------------+------------------+\n",
            "|Female | 21|         2|  Home|         No|           No|          No|     No|    No|             No|                  Yes|                  No|               150|\n",
            "|  Male | 25|         3|Hostel|         No|          Yes|  Motorcycle|     No|    No|            Yes|                  Yes|                 Yes|               220|\n",
            "|  Male | 23|         2|  Home|        Yes|           No|          No|     No|    No|             No|                   No|                null|               180|\n",
            "|  Male | 19|         3|Hostel|         No|           No|  Motorcycle|     No|    No|            Yes|                  Yes|                 Yes|               200|\n",
            "|Female | 19|         2|  Home|         No|           No|  Motorcycle|     No|    No|             No|                  Yes|                  No|               300|\n",
            "|  Male | 22|         3|Hostel|         No|          Yes|         Car|   null|   Yes|            Yes|                   No|                  No|               150|\n",
            "|Female | 21|         2|  Home|        Yes|           No|          No|     No|    No|            Yes|                   No|                 Yes|               200|\n",
            "|  Male | 22|         3|Hostel|         No|          Yes|  Motorcycle|    Yes|    No|            Yes|                 null|                 Yes|               200|\n",
            "|Female | 18|         1|  Home|        Yes|           No|          No|     No|    No|             No|                  Yes|                 Yes|               150|\n",
            "|  Male | 19|         1|  Home|         No|           No|          No|   null|    No|            Yes|                  Yes|                null|               160|\n",
            "|  Male | 22|         3|  Home|         No|           No|         Car|     No|    No|             No|                  Yes|                 Yes|               350|\n",
            "|  Male | 18|         2|Hostel|         No|           No|  Motorcycle|     No|    No|            Yes|                   No|                  No|               180|\n",
            "|Female | 18|         2|  Home|         No|           No|          No|     No|    No|            Yes|                  Yes|                  No|               140|\n",
            "|  Male | 19|         2|  Home|         No|          Yes|        null|    Yes|  null|            Yes|                 null|                  No|              null|\n",
            "|Female | 22|         4|Hostel|        Yes|          Yes|         Car|     No|    No|             No|                  Yes|                 Yes|               300|\n",
            "|  Male | 22|         4|  Home|         No|           No|         Car|     No|    No|            Yes|                   No|                  No|               250|\n",
            "|Female | 17|         1|  Home|         No|           No|         Car|     No|    No|             No|                   No|                  No|               250|\n",
            "|Female | 19|         2|Hostel|         No|         null|        null|     No|    No|            Yes|                  Yes|                  No|               150|\n",
            "|Female | 23|         4|  Home|         No|           No|          No|     No|  null|            Yes|                  Yes|                 Yes|               150|\n",
            "|Female | 19|         3|  Home|         No|           No|  Motorcycle|     No|    No|            Yes|                  Yes|                 Yes|               200|\n",
            "+-------+---+----------+------+-----------+-------------+------------+-------+------+---------------+---------------------+--------------------+------------------+\n",
            "only showing top 20 rows\n",
            "\n"
          ]
        }
      ]
    },
    {
      "cell_type": "code",
      "source": [
        "# Grouping by data according to gender\n",
        "spark_df.groupBy(\"Gender\")"
      ],
      "metadata": {
        "colab": {
          "base_uri": "https://localhost:8080/"
        },
        "id": "8khWvD6GPtJ0",
        "outputId": "2d82b13e-e3f3-40b1-f246-4c09ab5a0b2d"
      },
      "execution_count": null,
      "outputs": [
        {
          "output_type": "execute_result",
          "data": {
            "text/plain": [
              "<pyspark.sql.group.GroupedData at 0x7f5ea9fb8310>"
            ]
          },
          "metadata": {},
          "execution_count": 5
        }
      ]
    },
    {
      "cell_type": "code",
      "source": [
        "# Grouping and aggregation goes hand in hand\n",
        "# Calculating max Age present in each gender\n",
        "spark_df.groupBy(\"Gender\").max(\"Age\").show()"
      ],
      "metadata": {
        "colab": {
          "base_uri": "https://localhost:8080/"
        },
        "id": "UDWpXmklYGh8",
        "outputId": "eeaead9a-6f31-4d26-8628-9af2434849c2"
      },
      "execution_count": null,
      "outputs": [
        {
          "output_type": "stream",
          "name": "stdout",
          "text": [
            "+-------+--------+\n",
            "| Gender|max(Age)|\n",
            "+-------+--------+\n",
            "|Female |      23|\n",
            "|  Male |      25|\n",
            "+-------+--------+\n",
            "\n"
          ]
        }
      ]
    },
    {
      "cell_type": "code",
      "source": [
        "# Calculating average expenses in each gender\n",
        "spark_df.groupBy(\"Gender\").avg(\"Monthly_expenses_$\").show()"
      ],
      "metadata": {
        "colab": {
          "base_uri": "https://localhost:8080/"
        },
        "id": "_1C1IwKFYZEj",
        "outputId": "d52ae21f-eb5a-4921-92e4-abdf4b6c2cfb"
      },
      "execution_count": null,
      "outputs": [
        {
          "output_type": "stream",
          "name": "stdout",
          "text": [
            "+-------+-----------------------+\n",
            "| Gender|avg(Monthly_expenses_$)|\n",
            "+-------+-----------------------+\n",
            "|Female |     213.13725490196077|\n",
            "|  Male |                216.875|\n",
            "+-------+-----------------------+\n",
            "\n"
          ]
        }
      ]
    },
    {
      "cell_type": "code",
      "source": [
        "# Calculating the count of part time jobs done by each gender\n",
        "spark_df.groupBy([\"Gender\", \"Part_time_job\"]).count().show()"
      ],
      "metadata": {
        "colab": {
          "base_uri": "https://localhost:8080/"
        },
        "id": "k-evmmQfYlt8",
        "outputId": "20140588-d048-48ee-edb5-ef1965a65493"
      },
      "execution_count": null,
      "outputs": [
        {
          "output_type": "stream",
          "name": "stdout",
          "text": [
            "+-------+-------------+-----+\n",
            "| Gender|Part_time_job|count|\n",
            "+-------+-------------+-----+\n",
            "|Female |         null|    4|\n",
            "|  Male |           No|   34|\n",
            "|  Male |          Yes|   17|\n",
            "|Female |           No|   35|\n",
            "|Female |          Yes|   14|\n",
            "|  Male |         null|    1|\n",
            "+-------+-------------+-----+\n",
            "\n"
          ]
        }
      ]
    },
    {
      "cell_type": "code",
      "source": [],
      "metadata": {
        "id": "llMe8omDY8Oj"
      },
      "execution_count": null,
      "outputs": []
    }
  ]
}