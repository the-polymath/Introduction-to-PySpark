{
  "nbformat": 4,
  "nbformat_minor": 0,
  "metadata": {
    "colab": {
      "provenance": []
    },
    "kernelspec": {
      "name": "python3",
      "display_name": "Python 3"
    },
    "language_info": {
      "name": "python"
    }
  },
  "cells": [
    {
      "cell_type": "markdown",
      "source": [
        "# Manipulating PySpark Dataframe\n",
        "<hr>"
      ],
      "metadata": {
        "id": "3JDw5Vy0mp-V"
      }
    },
    {
      "cell_type": "code",
      "execution_count": null,
      "metadata": {
        "colab": {
          "base_uri": "https://localhost:8080/"
        },
        "id": "aj2H0ME9moPP",
        "outputId": "cc740bbd-5908-459a-b317-2108f52e1f61"
      },
      "outputs": [
        {
          "output_type": "stream",
          "name": "stdout",
          "text": [
            "Looking in indexes: https://pypi.org/simple, https://us-python.pkg.dev/colab-wheels/public/simple/\n",
            "Collecting pyspark\n",
            "  Downloading pyspark-3.3.0.tar.gz (281.3 MB)\n",
            "\u001b[K     |████████████████████████████████| 281.3 MB 47 kB/s \n",
            "\u001b[?25hCollecting py4j==0.10.9.5\n",
            "  Downloading py4j-0.10.9.5-py2.py3-none-any.whl (199 kB)\n",
            "\u001b[K     |████████████████████████████████| 199 kB 59.3 MB/s \n",
            "\u001b[?25hBuilding wheels for collected packages: pyspark\n",
            "  Building wheel for pyspark (setup.py) ... \u001b[?25l\u001b[?25hdone\n",
            "  Created wheel for pyspark: filename=pyspark-3.3.0-py2.py3-none-any.whl size=281764026 sha256=97c50a02ca710b2500bbc490c47e661bd1c0edd8f2bed17708e77443266ac826\n",
            "  Stored in directory: /root/.cache/pip/wheels/7a/8e/1b/f73a52650d2e5f337708d9f6a1750d451a7349a867f928b885\n",
            "Successfully built pyspark\n",
            "Installing collected packages: py4j, pyspark\n",
            "Successfully installed py4j-0.10.9.5 pyspark-3.3.0\n"
          ]
        }
      ],
      "source": [
        "# Installation of pyspark package\n",
        "!pip install pyspark"
      ]
    },
    {
      "cell_type": "code",
      "source": [
        "# creating spark session\n",
        "from pyspark.sql import SparkSession\n",
        "\n",
        "spark = SparkSession.builder.appName(\"Spark Dataframes\").getOrCreate()\n",
        "spark"
      ],
      "metadata": {
        "colab": {
          "base_uri": "https://localhost:8080/",
          "height": 219
        },
        "id": "N0XWwKyxm7cm",
        "outputId": "9a1a94fd-c3fa-4c18-8eb5-36094e9dd31b"
      },
      "execution_count": null,
      "outputs": [
        {
          "output_type": "execute_result",
          "data": {
            "text/plain": [
              "<pyspark.sql.session.SparkSession at 0x7fc66adf2a50>"
            ],
            "text/html": [
              "\n",
              "            <div>\n",
              "                <p><b>SparkSession - in-memory</b></p>\n",
              "                \n",
              "        <div>\n",
              "            <p><b>SparkContext</b></p>\n",
              "\n",
              "            <p><a href=\"http://2b9ce3b8def7:4040\">Spark UI</a></p>\n",
              "\n",
              "            <dl>\n",
              "              <dt>Version</dt>\n",
              "                <dd><code>v3.3.0</code></dd>\n",
              "              <dt>Master</dt>\n",
              "                <dd><code>local[*]</code></dd>\n",
              "              <dt>AppName</dt>\n",
              "                <dd><code>Spark Dataframes</code></dd>\n",
              "            </dl>\n",
              "        </div>\n",
              "        \n",
              "            </div>\n",
              "        "
            ]
          },
          "metadata": {},
          "execution_count": 2
        }
      ]
    },
    {
      "cell_type": "markdown",
      "source": [
        "<br>\n",
        "\n",
        "###Reading the dataset\n"
      ],
      "metadata": {
        "id": "AAW3Y0N8n1dX"
      }
    },
    {
      "cell_type": "code",
      "source": [
        "# Reading dataset using pyspark\n",
        "spark_df = spark.read.csv(\"dataset.csv\", header=True, inferSchema=True)"
      ],
      "metadata": {
        "id": "eDWyLr4DnBQ1"
      },
      "execution_count": null,
      "outputs": []
    },
    {
      "cell_type": "code",
      "source": [
        "# Fetching first 5 rows to glance \n",
        "spark_df.show(5)"
      ],
      "metadata": {
        "colab": {
          "base_uri": "https://localhost:8080/"
        },
        "id": "Ra5zwHWVnESd",
        "outputId": "d016a8d5-181d-47b4-fc8c-c6ca50ea81a9"
      },
      "execution_count": null,
      "outputs": [
        {
          "output_type": "stream",
          "name": "stdout",
          "text": [
            "+-------+---+----------+------+-----------+-------------+------------+-------+------+---------------+---------------------+--------------------+------------------+\n",
            "| Gender|Age|Study_year|Living|Scholarship|Part_time_job|Transporting|Smoking|Drinks|Games_&_Hobbies|Cosmetics_&_Self-care|Monthly_Subscription|Monthly_expenses_$|\n",
            "+-------+---+----------+------+-----------+-------------+------------+-------+------+---------------+---------------------+--------------------+------------------+\n",
            "|Female | 21|         2|  Home|         No|           No|          No|     No|    No|             No|                  Yes|                  No|               150|\n",
            "|  Male | 25|         3|Hostel|         No|          Yes|  Motorcycle|     No|    No|            Yes|                  Yes|                 Yes|               220|\n",
            "|  Male | 23|         2|  Home|        Yes|           No|          No|     No|    No|             No|                   No|                null|               180|\n",
            "|  Male | 19|         3|Hostel|         No|           No|  Motorcycle|     No|    No|            Yes|                  Yes|                 Yes|               200|\n",
            "|Female | 19|         2|  Home|         No|           No|  Motorcycle|     No|    No|             No|                  Yes|                  No|               300|\n",
            "+-------+---+----------+------+-----------+-------------+------------+-------+------+---------------+---------------------+--------------------+------------------+\n",
            "only showing top 5 rows\n",
            "\n"
          ]
        }
      ]
    },
    {
      "cell_type": "markdown",
      "source": [
        "<br>\n",
        "\n",
        "###Checking the Datatypes fof the columns (Schema)\n"
      ],
      "metadata": {
        "id": "nWNqfTlGoDiU"
      }
    },
    {
      "cell_type": "code",
      "source": [
        "spark_df.printSchema()"
      ],
      "metadata": {
        "colab": {
          "base_uri": "https://localhost:8080/"
        },
        "id": "8Aim-sZ2nIyO",
        "outputId": "5dc47dc5-c273-4fb6-e493-4a8c967ecf1a"
      },
      "execution_count": null,
      "outputs": [
        {
          "output_type": "stream",
          "name": "stdout",
          "text": [
            "root\n",
            " |-- Gender: string (nullable = true)\n",
            " |-- Age: integer (nullable = true)\n",
            " |-- Study_year: integer (nullable = true)\n",
            " |-- Living: string (nullable = true)\n",
            " |-- Scholarship: string (nullable = true)\n",
            " |-- Part_time_job: string (nullable = true)\n",
            " |-- Transporting: string (nullable = true)\n",
            " |-- Smoking: string (nullable = true)\n",
            " |-- Drinks: string (nullable = true)\n",
            " |-- Games_&_Hobbies: string (nullable = true)\n",
            " |-- Cosmetics_&_Self-care: string (nullable = true)\n",
            " |-- Monthly_Subscription: string (nullable = true)\n",
            " |-- Monthly_expenses_$: integer (nullable = true)\n",
            "\n"
          ]
        }
      ]
    },
    {
      "cell_type": "markdown",
      "source": [
        "<br>\n",
        "\n",
        "###Columns selecting & Indexing\n"
      ],
      "metadata": {
        "id": "MuewzTWXoTeN"
      }
    },
    {
      "cell_type": "code",
      "source": [
        "# Selecting the age column from dataset\n",
        "spark_df.select('Age').show()"
      ],
      "metadata": {
        "colab": {
          "base_uri": "https://localhost:8080/"
        },
        "id": "ibThCM56neBW",
        "outputId": "41baba4d-03a6-49b6-fc43-ab3e2330cf5f"
      },
      "execution_count": null,
      "outputs": [
        {
          "output_type": "stream",
          "name": "stdout",
          "text": [
            "+---+\n",
            "|Age|\n",
            "+---+\n",
            "| 21|\n",
            "| 25|\n",
            "| 23|\n",
            "| 19|\n",
            "| 19|\n",
            "| 22|\n",
            "| 21|\n",
            "| 22|\n",
            "| 18|\n",
            "| 19|\n",
            "| 22|\n",
            "| 18|\n",
            "| 18|\n",
            "| 19|\n",
            "| 22|\n",
            "| 22|\n",
            "| 17|\n",
            "| 19|\n",
            "| 23|\n",
            "| 19|\n",
            "+---+\n",
            "only showing top 20 rows\n",
            "\n"
          ]
        }
      ]
    },
    {
      "cell_type": "code",
      "source": [
        "# Selecting multiple columns\n",
        "spark_df.select('Gender', 'Age', 'Study_year').show()"
      ],
      "metadata": {
        "colab": {
          "base_uri": "https://localhost:8080/"
        },
        "id": "l2497gz4o8NG",
        "outputId": "28675961-5fe3-42c2-ef61-d02b26f80b9b"
      },
      "execution_count": null,
      "outputs": [
        {
          "output_type": "stream",
          "name": "stdout",
          "text": [
            "+-------+---+----------+\n",
            "| Gender|Age|Study_year|\n",
            "+-------+---+----------+\n",
            "|Female | 21|         2|\n",
            "|  Male | 25|         3|\n",
            "|  Male | 23|         2|\n",
            "|  Male | 19|         3|\n",
            "|Female | 19|         2|\n",
            "|  Male | 22|         3|\n",
            "|Female | 21|         2|\n",
            "|  Male | 22|         3|\n",
            "|Female | 18|         1|\n",
            "|  Male | 19|         1|\n",
            "|  Male | 22|         3|\n",
            "|  Male | 18|         2|\n",
            "|Female | 18|         2|\n",
            "|  Male | 19|         2|\n",
            "|Female | 22|         4|\n",
            "|  Male | 22|         4|\n",
            "|Female | 17|         1|\n",
            "|Female | 19|         2|\n",
            "|Female | 23|         4|\n",
            "|Female | 19|         3|\n",
            "+-------+---+----------+\n",
            "only showing top 20 rows\n",
            "\n"
          ]
        }
      ]
    },
    {
      "cell_type": "markdown",
      "source": [
        "<br>\n",
        "\n",
        "###Checking out Describe method similar to pandas"
      ],
      "metadata": {
        "id": "h2PYxwItpnbt"
      }
    },
    {
      "cell_type": "code",
      "source": [
        "spark_df.describe().show()"
      ],
      "metadata": {
        "colab": {
          "base_uri": "https://localhost:8080/"
        },
        "id": "lnS5h7SOpHed",
        "outputId": "02f4b5de-cf9d-4e51-8ece-b01efda8e16c"
      },
      "execution_count": null,
      "outputs": [
        {
          "output_type": "stream",
          "name": "stdout",
          "text": [
            "+-------+-------+------------------+------------------+------+-----------+-------------+------------+-------+------+---------------+---------------------+--------------------+------------------+\n",
            "|summary| Gender|               Age|        Study_year|Living|Scholarship|Part_time_job|Transporting|Smoking|Drinks|Games_&_Hobbies|Cosmetics_&_Self-care|Monthly_Subscription|Monthly_expenses_$|\n",
            "+-------+-------+------------------+------------------+------+-----------+-------------+------------+-------+------+---------------+---------------------+--------------------+------------------+\n",
            "|  count|    105|               105|               101|   103|        105|          100|          91|     94|    92|            105|                   92|                  96|                99|\n",
            "|   mean|   null| 20.17142857142857|2.6534653465346536|  null|       null|         null|        null|   null|  null|           null|                 null|                null|214.94949494949495|\n",
            "| stddev|   null|1.8986692853009064|1.0043469874934305|  null|       null|         null|        null|   null|  null|           null|                 null|                null| 60.69955682475709|\n",
            "|    min|Female |                17|                 1|  Home|         No|           No|         Car|     No|    No|             No|                   No|                  No|               140|\n",
            "|    max|  Male |                25|                 4|Hostel|        Yes|          Yes|          No|    Yes|   Yes|            Yes|                  Yes|                 Yes|               350|\n",
            "+-------+-------+------------------+------------------+------+-----------+-------------+------------+-------+------+---------------+---------------------+--------------------+------------------+\n",
            "\n"
          ]
        }
      ]
    },
    {
      "cell_type": "markdown",
      "source": [
        "<br>\n",
        "\n",
        "###Adding, Renaming & Dropping columns from dataframe\n"
      ],
      "metadata": {
        "id": "Hbzn_S1YqDOe"
      }
    },
    {
      "cell_type": "code",
      "source": [
        "# for testing adding column that shows age after study year\n",
        "new_df = spark_df.withColumn('Age after study year', spark_df['Age'] + spark_df['Study_year'])\n",
        "new_df.show()"
      ],
      "metadata": {
        "colab": {
          "base_uri": "https://localhost:8080/"
        },
        "id": "UsTs9MHepf0l",
        "outputId": "5ffefe27-fb95-4746-83bd-0d729b02aaa6"
      },
      "execution_count": null,
      "outputs": [
        {
          "output_type": "stream",
          "name": "stdout",
          "text": [
            "+-------+---+----------+------+-----------+-------------+------------+-------+------+---------------+---------------------+--------------------+------------------+--------------------+\n",
            "| Gender|Age|Study_year|Living|Scholarship|Part_time_job|Transporting|Smoking|Drinks|Games_&_Hobbies|Cosmetics_&_Self-care|Monthly_Subscription|Monthly_expenses_$|Age after study year|\n",
            "+-------+---+----------+------+-----------+-------------+------------+-------+------+---------------+---------------------+--------------------+------------------+--------------------+\n",
            "|Female | 21|         2|  Home|         No|           No|          No|     No|    No|             No|                  Yes|                  No|               150|                  23|\n",
            "|  Male | 25|         3|Hostel|         No|          Yes|  Motorcycle|     No|    No|            Yes|                  Yes|                 Yes|               220|                  28|\n",
            "|  Male | 23|         2|  Home|        Yes|           No|          No|     No|    No|             No|                   No|                null|               180|                  25|\n",
            "|  Male | 19|         3|Hostel|         No|           No|  Motorcycle|     No|    No|            Yes|                  Yes|                 Yes|               200|                  22|\n",
            "|Female | 19|         2|  Home|         No|           No|  Motorcycle|     No|    No|             No|                  Yes|                  No|               300|                  21|\n",
            "|  Male | 22|         3|Hostel|         No|          Yes|         Car|   null|   Yes|            Yes|                   No|                  No|               150|                  25|\n",
            "|Female | 21|         2|  Home|        Yes|           No|          No|     No|    No|            Yes|                   No|                 Yes|               200|                  23|\n",
            "|  Male | 22|         3|Hostel|         No|          Yes|  Motorcycle|    Yes|    No|            Yes|                 null|                 Yes|               200|                  25|\n",
            "|Female | 18|         1|  Home|        Yes|           No|          No|     No|    No|             No|                  Yes|                 Yes|               150|                  19|\n",
            "|  Male | 19|         1|  Home|         No|           No|          No|   null|    No|            Yes|                  Yes|                null|               160|                  20|\n",
            "|  Male | 22|         3|  Home|         No|           No|         Car|     No|    No|             No|                  Yes|                 Yes|               350|                  25|\n",
            "|  Male | 18|         2|Hostel|         No|           No|  Motorcycle|     No|    No|            Yes|                   No|                  No|               180|                  20|\n",
            "|Female | 18|         2|  Home|         No|           No|          No|     No|    No|            Yes|                  Yes|                  No|               140|                  20|\n",
            "|  Male | 19|         2|  Home|         No|          Yes|        null|    Yes|  null|            Yes|                 null|                  No|              null|                  21|\n",
            "|Female | 22|         4|Hostel|        Yes|          Yes|         Car|     No|    No|             No|                  Yes|                 Yes|               300|                  26|\n",
            "|  Male | 22|         4|  Home|         No|           No|         Car|     No|    No|            Yes|                   No|                  No|               250|                  26|\n",
            "|Female | 17|         1|  Home|         No|           No|         Car|     No|    No|             No|                   No|                  No|               250|                  18|\n",
            "|Female | 19|         2|Hostel|         No|         null|        null|     No|    No|            Yes|                  Yes|                  No|               150|                  21|\n",
            "|Female | 23|         4|  Home|         No|           No|          No|     No|  null|            Yes|                  Yes|                 Yes|               150|                  27|\n",
            "|Female | 19|         3|  Home|         No|           No|  Motorcycle|     No|    No|            Yes|                  Yes|                 Yes|               200|                  22|\n",
            "+-------+---+----------+------+-----------+-------------+------------+-------+------+---------------+---------------------+--------------------+------------------+--------------------+\n",
            "only showing top 20 rows\n",
            "\n"
          ]
        }
      ]
    },
    {
      "cell_type": "code",
      "source": [
        "# Renaming that column now\n",
        "new_df = new_df.withColumnRenamed('Age after study year', 'Graduation Age')\n",
        "new_df.show()"
      ],
      "metadata": {
        "colab": {
          "base_uri": "https://localhost:8080/"
        },
        "id": "IZkR8m5ovKFO",
        "outputId": "22c7e81c-5377-4eff-ac99-bd646c812d55"
      },
      "execution_count": null,
      "outputs": [
        {
          "output_type": "stream",
          "name": "stdout",
          "text": [
            "+-------+---+----------+------+-----------+-------------+------------+-------+------+---------------+---------------------+--------------------+------------------+--------------+\n",
            "| Gender|Age|Study_year|Living|Scholarship|Part_time_job|Transporting|Smoking|Drinks|Games_&_Hobbies|Cosmetics_&_Self-care|Monthly_Subscription|Monthly_expenses_$|Graduation Age|\n",
            "+-------+---+----------+------+-----------+-------------+------------+-------+------+---------------+---------------------+--------------------+------------------+--------------+\n",
            "|Female | 21|         2|  Home|         No|           No|          No|     No|    No|             No|                  Yes|                  No|               150|            23|\n",
            "|  Male | 25|         3|Hostel|         No|          Yes|  Motorcycle|     No|    No|            Yes|                  Yes|                 Yes|               220|            28|\n",
            "|  Male | 23|         2|  Home|        Yes|           No|          No|     No|    No|             No|                   No|                null|               180|            25|\n",
            "|  Male | 19|         3|Hostel|         No|           No|  Motorcycle|     No|    No|            Yes|                  Yes|                 Yes|               200|            22|\n",
            "|Female | 19|         2|  Home|         No|           No|  Motorcycle|     No|    No|             No|                  Yes|                  No|               300|            21|\n",
            "|  Male | 22|         3|Hostel|         No|          Yes|         Car|   null|   Yes|            Yes|                   No|                  No|               150|            25|\n",
            "|Female | 21|         2|  Home|        Yes|           No|          No|     No|    No|            Yes|                   No|                 Yes|               200|            23|\n",
            "|  Male | 22|         3|Hostel|         No|          Yes|  Motorcycle|    Yes|    No|            Yes|                 null|                 Yes|               200|            25|\n",
            "|Female | 18|         1|  Home|        Yes|           No|          No|     No|    No|             No|                  Yes|                 Yes|               150|            19|\n",
            "|  Male | 19|         1|  Home|         No|           No|          No|   null|    No|            Yes|                  Yes|                null|               160|            20|\n",
            "|  Male | 22|         3|  Home|         No|           No|         Car|     No|    No|             No|                  Yes|                 Yes|               350|            25|\n",
            "|  Male | 18|         2|Hostel|         No|           No|  Motorcycle|     No|    No|            Yes|                   No|                  No|               180|            20|\n",
            "|Female | 18|         2|  Home|         No|           No|          No|     No|    No|            Yes|                  Yes|                  No|               140|            20|\n",
            "|  Male | 19|         2|  Home|         No|          Yes|        null|    Yes|  null|            Yes|                 null|                  No|              null|            21|\n",
            "|Female | 22|         4|Hostel|        Yes|          Yes|         Car|     No|    No|             No|                  Yes|                 Yes|               300|            26|\n",
            "|  Male | 22|         4|  Home|         No|           No|         Car|     No|    No|            Yes|                   No|                  No|               250|            26|\n",
            "|Female | 17|         1|  Home|         No|           No|         Car|     No|    No|             No|                   No|                  No|               250|            18|\n",
            "|Female | 19|         2|Hostel|         No|         null|        null|     No|    No|            Yes|                  Yes|                  No|               150|            21|\n",
            "|Female | 23|         4|  Home|         No|           No|          No|     No|  null|            Yes|                  Yes|                 Yes|               150|            27|\n",
            "|Female | 19|         3|  Home|         No|           No|  Motorcycle|     No|    No|            Yes|                  Yes|                 Yes|               200|            22|\n",
            "+-------+---+----------+------+-----------+-------------+------------+-------+------+---------------+---------------------+--------------------+------------------+--------------+\n",
            "only showing top 20 rows\n",
            "\n"
          ]
        }
      ]
    },
    {
      "cell_type": "code",
      "source": [
        "# Dropping the newly created column\n",
        "df_after_drop = new_df.drop('Graduation Age')\n",
        "df_after_drop.show()"
      ],
      "metadata": {
        "colab": {
          "base_uri": "https://localhost:8080/"
        },
        "id": "tYbhgcmoui6H",
        "outputId": "d7555e96-35ef-4f29-9bd8-c91dfe08b56e"
      },
      "execution_count": null,
      "outputs": [
        {
          "output_type": "stream",
          "name": "stdout",
          "text": [
            "+-------+---+----------+------+-----------+-------------+------------+-------+------+---------------+---------------------+--------------------+------------------+\n",
            "| Gender|Age|Study_year|Living|Scholarship|Part_time_job|Transporting|Smoking|Drinks|Games_&_Hobbies|Cosmetics_&_Self-care|Monthly_Subscription|Monthly_expenses_$|\n",
            "+-------+---+----------+------+-----------+-------------+------------+-------+------+---------------+---------------------+--------------------+------------------+\n",
            "|Female | 21|         2|  Home|         No|           No|          No|     No|    No|             No|                  Yes|                  No|               150|\n",
            "|  Male | 25|         3|Hostel|         No|          Yes|  Motorcycle|     No|    No|            Yes|                  Yes|                 Yes|               220|\n",
            "|  Male | 23|         2|  Home|        Yes|           No|          No|     No|    No|             No|                   No|                null|               180|\n",
            "|  Male | 19|         3|Hostel|         No|           No|  Motorcycle|     No|    No|            Yes|                  Yes|                 Yes|               200|\n",
            "|Female | 19|         2|  Home|         No|           No|  Motorcycle|     No|    No|             No|                  Yes|                  No|               300|\n",
            "|  Male | 22|         3|Hostel|         No|          Yes|         Car|   null|   Yes|            Yes|                   No|                  No|               150|\n",
            "|Female | 21|         2|  Home|        Yes|           No|          No|     No|    No|            Yes|                   No|                 Yes|               200|\n",
            "|  Male | 22|         3|Hostel|         No|          Yes|  Motorcycle|    Yes|    No|            Yes|                 null|                 Yes|               200|\n",
            "|Female | 18|         1|  Home|        Yes|           No|          No|     No|    No|             No|                  Yes|                 Yes|               150|\n",
            "|  Male | 19|         1|  Home|         No|           No|          No|   null|    No|            Yes|                  Yes|                null|               160|\n",
            "|  Male | 22|         3|  Home|         No|           No|         Car|     No|    No|             No|                  Yes|                 Yes|               350|\n",
            "|  Male | 18|         2|Hostel|         No|           No|  Motorcycle|     No|    No|            Yes|                   No|                  No|               180|\n",
            "|Female | 18|         2|  Home|         No|           No|          No|     No|    No|            Yes|                  Yes|                  No|               140|\n",
            "|  Male | 19|         2|  Home|         No|          Yes|        null|    Yes|  null|            Yes|                 null|                  No|              null|\n",
            "|Female | 22|         4|Hostel|        Yes|          Yes|         Car|     No|    No|             No|                  Yes|                 Yes|               300|\n",
            "|  Male | 22|         4|  Home|         No|           No|         Car|     No|    No|            Yes|                   No|                  No|               250|\n",
            "|Female | 17|         1|  Home|         No|           No|         Car|     No|    No|             No|                   No|                  No|               250|\n",
            "|Female | 19|         2|Hostel|         No|         null|        null|     No|    No|            Yes|                  Yes|                  No|               150|\n",
            "|Female | 23|         4|  Home|         No|           No|          No|     No|  null|            Yes|                  Yes|                 Yes|               150|\n",
            "|Female | 19|         3|  Home|         No|           No|  Motorcycle|     No|    No|            Yes|                  Yes|                 Yes|               200|\n",
            "+-------+---+----------+------+-----------+-------------+------------+-------+------+---------------+---------------------+--------------------+------------------+\n",
            "only showing top 20 rows\n",
            "\n"
          ]
        }
      ]
    },
    {
      "cell_type": "code",
      "source": [],
      "metadata": {
        "id": "XY5qX0t_u9Hw"
      },
      "execution_count": null,
      "outputs": []
    }
  ]
}